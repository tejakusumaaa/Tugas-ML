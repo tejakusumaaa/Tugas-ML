{
  "nbformat": 4,
  "nbformat_minor": 0,
  "metadata": {
    "colab": {
      "name": "code 1.ipynb",
      "provenance": [],
      "collapsed_sections": []
    },
    "kernelspec": {
      "name": "python3",
      "display_name": "Python 3"
    },
    "language_info": {
      "name": "python"
    },
    "accelerator": "GPU"
  },
  "cells": [
    {
      "cell_type": "code",
      "execution_count": null,
      "metadata": {
        "id": "8_to3MUkYpo7"
      },
      "outputs": [],
      "source": [
        ""
      ]
    },
    {
      "cell_type": "code",
      "source": [
        "!python3 code/train.py --seed=0 --trial=1 --kernel_size=5 --epoch=5"
      ],
      "metadata": {
        "colab": {
          "base_uri": "https://localhost:8080/"
        },
        "id": "dXNcQhxxbjet",
        "outputId": "ae9a0856-1eb2-4230-86c7-0116d2d324b3"
      },
      "execution_count": 5,
      "outputs": [
        {
          "output_type": "stream",
          "name": "stdout",
          "text": [
            "----------------------------------------------------------------\n",
            "        Layer (type)               Output Shape         Param #\n",
            "================================================================\n",
            "            Conv2d-1           [-1, 32, 24, 24]             800\n",
            "       BatchNorm2d-2           [-1, 32, 24, 24]              64\n",
            "            Conv2d-3           [-1, 64, 20, 20]          51,200\n",
            "       BatchNorm2d-4           [-1, 64, 20, 20]             128\n",
            "            Conv2d-5           [-1, 96, 16, 16]         153,600\n",
            "       BatchNorm2d-6           [-1, 96, 16, 16]             192\n",
            "            Conv2d-7          [-1, 128, 12, 12]         307,200\n",
            "       BatchNorm2d-8          [-1, 128, 12, 12]             256\n",
            "            Conv2d-9            [-1, 160, 8, 8]         512,000\n",
            "      BatchNorm2d-10            [-1, 160, 8, 8]             320\n",
            "           Linear-11                   [-1, 10]         102,400\n",
            "      BatchNorm1d-12                   [-1, 10]              20\n",
            "================================================================\n",
            "Total params: 1,128,180\n",
            "Trainable params: 1,128,180\n",
            "Non-trainable params: 0\n",
            "----------------------------------------------------------------\n",
            "Input size (MB): 0.00\n",
            "Forward/backward pass size (MB): 1.48\n",
            "Params size (MB): 4.30\n",
            "Estimated Total Size (MB): 5.79\n",
            "----------------------------------------------------------------\n",
            "/usr/local/lib/python3.7/dist-packages/torchvision/transforms/functional.py:992: UserWarning: Argument interpolation should be of type InterpolationMode instead of int. Please, use InterpolationMode enum.\n",
            "  \"Argument interpolation should be of type InterpolationMode instead of int. \"\n",
            "Train Epoch: 0 [00000/60000 (0%)]\tLoss: 2.835055\n",
            "Train Epoch: 0 [12000/60000 (20%)]\tLoss: 0.672545\n",
            "Train Epoch: 0 [24000/60000 (40%)]\tLoss: 0.446485\n",
            "Train Epoch: 0 [36000/60000 (60%)]\tLoss: 0.381814\n",
            "Train Epoch: 0 [48000/60000 (80%)]\tLoss: 0.333888\n",
            "Best accuracy! correct images:  9892\n",
            "\n",
            "Test set: Average loss: 0.1459, Accuracy: 9892/10000 (98.92%) (best: 98.92%)\n",
            "\n",
            "Train Epoch: 1 [00000/60000 (0%)]\tLoss: 0.322609\n",
            "Train Epoch: 1 [12000/60000 (20%)]\tLoss: 0.246928\n",
            "Train Epoch: 1 [24000/60000 (40%)]\tLoss: 0.257343\n",
            "Train Epoch: 1 [36000/60000 (60%)]\tLoss: 0.147037\n",
            "Train Epoch: 1 [48000/60000 (80%)]\tLoss: 0.212519\n",
            "\n",
            "Test set: Average loss: 0.1495, Accuracy: 9817/10000 (98.17%) (best: 98.92%)\n",
            "\n",
            "Train Epoch: 2 [00000/60000 (0%)]\tLoss: 0.106649\n",
            "Train Epoch: 2 [12000/60000 (20%)]\tLoss: 0.104282\n",
            "Train Epoch: 2 [24000/60000 (40%)]\tLoss: 0.138825\n",
            "Train Epoch: 2 [36000/60000 (60%)]\tLoss: 0.153324\n",
            "Train Epoch: 2 [48000/60000 (80%)]\tLoss: 0.101405\n",
            "Best accuracy! correct images:  9938\n",
            "\n",
            "Test set: Average loss: 0.0524, Accuracy: 9938/10000 (99.38%) (best: 99.38%)\n",
            "\n",
            "Train Epoch: 3 [00000/60000 (0%)]\tLoss: 0.070126\n",
            "Train Epoch: 3 [12000/60000 (20%)]\tLoss: 0.088854\n",
            "Train Epoch: 3 [24000/60000 (40%)]\tLoss: 0.081230\n",
            "Train Epoch: 3 [36000/60000 (60%)]\tLoss: 0.114229\n",
            "Train Epoch: 3 [48000/60000 (80%)]\tLoss: 0.107765\n",
            "\n",
            "Test set: Average loss: 0.0491, Accuracy: 9921/10000 (99.21%) (best: 99.38%)\n",
            "\n",
            "Train Epoch: 4 [00000/60000 (0%)]\tLoss: 0.101666\n",
            "Train Epoch: 4 [12000/60000 (20%)]\tLoss: 0.060720\n",
            "Train Epoch: 4 [24000/60000 (40%)]\tLoss: 0.114014\n",
            "Train Epoch: 4 [36000/60000 (60%)]\tLoss: 0.111087\n",
            "Train Epoch: 4 [48000/60000 (80%)]\tLoss: 0.067609\n",
            "Best accuracy! correct images:  9950\n",
            "\n",
            "Test set: Average loss: 0.0364, Accuracy: 9950/10000 (99.50%) (best: 99.50%)\n",
            "\n"
          ]
        }
      ]
    },
    {
      "cell_type": "code",
      "source": [
        "!python3 code/test.py  --seed=0 --trial=10 --kernel_size=5 --logdir=temp"
      ],
      "metadata": {
        "colab": {
          "base_uri": "https://localhost:8080/"
        },
        "id": "OnotsFDFgzxB",
        "outputId": "222812ba-1cd4-482d-89a5-bf83e6eb93ca"
      },
      "execution_count": 7,
      "outputs": [
        {
          "output_type": "stream",
          "name": "stdout",
          "text": [
            "Traceback (most recent call last):\n",
            "  File \"code/test.py\", line 71, in <module>\n",
            "    p_logdir = args.logdir)\n",
            "  File \"code/test.py\", line 43, in run\n",
            "    model1.load_state_dict(torch.load(\"logs/%s/model%03d.pth\"%(p_logdir,p_seed)))\n",
            "  File \"/usr/local/lib/python3.7/dist-packages/torch/serialization.py\", line 594, in load\n",
            "    with _open_file_like(f, 'rb') as opened_file:\n",
            "  File \"/usr/local/lib/python3.7/dist-packages/torch/serialization.py\", line 230, in _open_file_like\n",
            "    return _open_file(name_or_buffer, mode)\n",
            "  File \"/usr/local/lib/python3.7/dist-packages/torch/serialization.py\", line 211, in __init__\n",
            "    super(_open_file, self).__init__(open(name, mode))\n",
            "FileNotFoundError: [Errno 2] No such file or directory: 'logs/temp/model001.pth'\n"
          ]
        }
      ]
    },
    {
      "cell_type": "code",
      "source": [
        "!python3 code/homo_ensemble.py --kernel_size=5"
      ],
      "metadata": {
        "colab": {
          "base_uri": "https://localhost:8080/"
        },
        "id": "VUQXJb61iIuR",
        "outputId": "ce03ec23-a1ee-4e0d-87fa-f60ad1dd2eda"
      },
      "execution_count": 9,
      "outputs": [
        {
          "output_type": "stream",
          "name": "stdout",
          "text": [
            "   1   50    0    0\n",
            "   2   50    0    0\n",
            "   3   50    0    0\n",
            "   4   50    0    0\n",
            "   5   50    0    0\n",
            "   6   50    0    0\n",
            "   7   50    0    0\n",
            "   8   50    0    0\n",
            "   9   50    0    0\n",
            "  10   50    0    0\n",
            "  11   50    0    0\n",
            "  12   50    0    0\n",
            "  13   50    0    0\n",
            "  14   50    0    0\n",
            "  15   50    0    0\n",
            "  16   50    0    0\n",
            "  17   50    0    0\n",
            "  18   50    0    0\n",
            "  19   50    0    0\n",
            "  20   50    0    0\n",
            "  21   50    0    0\n",
            "  22   50    0    0\n",
            "  23   50    0    0\n",
            "  24   50    0    0\n",
            "  25   50    0    0\n",
            "  26   50    0    0\n",
            "  27   50    0    0\n",
            "  28   50    0    0\n",
            "  29   50    0    0\n",
            "  30   50    0    0\n",
            "  31   50    0    0\n",
            "  32   50    0    0\n",
            "  33   50    0    0\n",
            "  34   50    0    0\n",
            "  35   50    0    0\n",
            "  36   50    0    0\n",
            "  37   50    0    0\n",
            "  38   50    0    0\n",
            "  39   50    0    0\n",
            "  40   50    0    0\n",
            "  41   50    0    0\n",
            "  42   50    0    0\n",
            "  43   50    0    0\n",
            "  44   50    0    0\n",
            "  45   50    0    0\n",
            "  46   50    0    0\n",
            "  47   50    0    0\n",
            "  48   50    0    0\n",
            "  49   50    0    0\n",
            "  50   50    0    0\n",
            "  51   50    0    0\n",
            "  52   50    0    0\n",
            "  53   50    0    0\n",
            "  54   50    0    0\n",
            "  55   50    0    0\n",
            "  56   50    0    0\n",
            "  57   50    0    0\n",
            "  58   50    0    0\n",
            "  59   50    0    0\n",
            "  60   50    0    0\n",
            "  61   50    0    0\n",
            "  62   50    0    0\n",
            "  63   50    0    0\n",
            "  64   50    0    0\n",
            "  65   50    0    0\n",
            "  66   50    0    0\n",
            "  67   50    0    0\n",
            "  68   50    0    0\n",
            "  69   50    0    0\n",
            "  70   50    0    0\n",
            "  71   50    0    0\n",
            "  72   50    0    0\n",
            "  73   50    0    0\n",
            "  74   50    0    0\n",
            "  75   50    0    0\n",
            "  76   50    0    0\n",
            "  77   50    0    0\n",
            "  78   50    0    0\n",
            "  79   50    0    0\n",
            "  80   50    0    0\n",
            "  81   50    0    0\n",
            "  82   50    0    0\n",
            "  83   50    0    0\n",
            "  84   50    0    0\n",
            "  85   50    0    0\n",
            "  86   50    0    0\n",
            "  87   50    0    0\n",
            "  88   50    0    0\n",
            "  89   50    0    0\n",
            "  90   50    0    0\n",
            "  91   50    0    0\n",
            "  92   50    0    0\n",
            "  93   50    0    0\n",
            "  94   50    0    0\n",
            "  95   50    0    0\n",
            "  96   50    0    0\n",
            "  97   50    0    0\n",
            "  98   50    0    0\n",
            "  99   50    0    0\n",
            " 100   50    0    0\n",
            " 101   50    0    0\n",
            " 102   50    0    0\n",
            " 103   50    0    0\n",
            " 104   50    0    0\n",
            " 105   50    0    0\n",
            " 106   50    0    0\n",
            " 107   50    0    0\n",
            " 108   50    0    0\n",
            " 109   50    0    0\n",
            " 110   50    0    0\n",
            " 111   50    0    0\n",
            " 112   50    0    0\n",
            " 113   50    0    0\n",
            " 114   50    0    0\n",
            " 115   50    0    0\n",
            " 116   50    0    0\n",
            " 117   50    0    0\n",
            " 118   50    0    0\n",
            " 119   50    0    0\n",
            " 120   50    0    0\n"
          ]
        }
      ]
    }
  ]
}